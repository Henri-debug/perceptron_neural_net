{
 "cells": [
  {
   "cell_type": "markdown",
   "id": "9daa6b87-dfde-41b5-934a-ca8c723a0c13",
   "metadata": {},
   "source": [
    "# Descrição dos Dados"
   ]
  },
  {
   "cell_type": "markdown",
   "id": "2dabb160-ce6a-47c1-b12f-8a8de351e548",
   "metadata": {},
   "source": [
    "A indústria Gelatina Ltda. está analisando a possibilidade de implementação de uma rede neural\n",
    "Perceptron para controlar (ligar ou desligar) o motor de um processo específico de sua linha de produção.\n",
    "Durante o período de 1 mês realizou-se a aquisição dos dados relativos às variáveis de entrada (Pressão e\n",
    "Temperatura) e saída (Acionamento do motor), ou seja, monitorou-se o comportamento do processo.\n",
    "\n",
    "O dataset em questão é composto por 386 linhas e 3 colunas, onde, contextualmete representam duas entradas e uma saída binária representando sua classe."
   ]
  },
  {
   "cell_type": "markdown",
   "id": "a1cd986d-a215-410c-b82d-d6d095d6ff56",
   "metadata": {
    "tags": []
   },
   "source": [
    "<h2>Dicionário</h2>"
   ]
  },
  {
   "cell_type": "markdown",
   "id": "b8099726-44f1-48c8-b580-28fdcb07f827",
   "metadata": {},
   "source": [
    "X1 -> Pressão \n",
    "<br />\n",
    "X2 -> Temperatura | Float64\n",
    "<br />\n",
    "Y -> Desligar o motor (0) ou Ligar o motor(1) | Int64"
   ]
  },
  {
   "cell_type": "markdown",
   "id": "17d7197a-383a-4ad7-b392-ccb52155e355",
   "metadata": {
    "tags": []
   },
   "source": [
    "# Dependências"
   ]
  },
  {
   "cell_type": "code",
   "execution_count": 1,
   "id": "648340c7-9aae-41ed-9eb1-45ac1eeafc2f",
   "metadata": {
    "tags": []
   },
   "outputs": [
    {
     "name": "stdout",
     "output_type": "stream",
     "text": [
      "Requirement already satisfied: numpy in c:\\users\\hlibe.polaroidd\\appdata\\local\\programs\\python\\python311\\lib\\site-packages (1.24.2)\n"
     ]
    },
    {
     "name": "stderr",
     "output_type": "stream",
     "text": [
      "\n",
      "[notice] A new release of pip available: 22.3.1 -> 23.0.1\n",
      "[notice] To update, run: python.exe -m pip install --upgrade pip\n"
     ]
    },
    {
     "name": "stdout",
     "output_type": "stream",
     "text": [
      "Requirement already satisfied: pandas in c:\\users\\hlibe.polaroidd\\appdata\\local\\programs\\python\\python311\\lib\\site-packages (1.5.3)\n",
      "Requirement already satisfied: python-dateutil>=2.8.1 in c:\\users\\hlibe.polaroidd\\appdata\\local\\programs\\python\\python311\\lib\\site-packages (from pandas) (2.8.2)\n",
      "Requirement already satisfied: pytz>=2020.1 in c:\\users\\hlibe.polaroidd\\appdata\\local\\programs\\python\\python311\\lib\\site-packages (from pandas) (2022.7.1)\n",
      "Requirement already satisfied: numpy>=1.21.0 in c:\\users\\hlibe.polaroidd\\appdata\\local\\programs\\python\\python311\\lib\\site-packages (from pandas) (1.24.2)\n",
      "Requirement already satisfied: six>=1.5 in c:\\users\\hlibe.polaroidd\\appdata\\local\\programs\\python\\python311\\lib\\site-packages (from python-dateutil>=2.8.1->pandas) (1.16.0)\n"
     ]
    },
    {
     "name": "stderr",
     "output_type": "stream",
     "text": [
      "\n",
      "[notice] A new release of pip available: 22.3.1 -> 23.0.1\n",
      "[notice] To update, run: python.exe -m pip install --upgrade pip\n"
     ]
    },
    {
     "name": "stdout",
     "output_type": "stream",
     "text": [
      "Requirement already satisfied: openpyxl in c:\\users\\hlibe.polaroidd\\appdata\\local\\programs\\python\\python311\\lib\\site-packages (3.1.1)\n",
      "Requirement already satisfied: et-xmlfile in c:\\users\\hlibe.polaroidd\\appdata\\local\\programs\\python\\python311\\lib\\site-packages (from openpyxl) (1.1.0)\n"
     ]
    },
    {
     "name": "stderr",
     "output_type": "stream",
     "text": [
      "\n",
      "[notice] A new release of pip available: 22.3.1 -> 23.0.1\n",
      "[notice] To update, run: python.exe -m pip install --upgrade pip\n"
     ]
    },
    {
     "name": "stdout",
     "output_type": "stream",
     "text": [
      "Requirement already satisfied: matplotlib in c:\\users\\hlibe.polaroidd\\appdata\\local\\programs\\python\\python311\\lib\\site-packages (3.7.0)\n",
      "Requirement already satisfied: contourpy>=1.0.1 in c:\\users\\hlibe.polaroidd\\appdata\\local\\programs\\python\\python311\\lib\\site-packages (from matplotlib) (1.0.7)\n",
      "Requirement already satisfied: cycler>=0.10 in c:\\users\\hlibe.polaroidd\\appdata\\local\\programs\\python\\python311\\lib\\site-packages (from matplotlib) (0.11.0)\n",
      "Requirement already satisfied: fonttools>=4.22.0 in c:\\users\\hlibe.polaroidd\\appdata\\local\\programs\\python\\python311\\lib\\site-packages (from matplotlib) (4.38.0)\n",
      "Requirement already satisfied: kiwisolver>=1.0.1 in c:\\users\\hlibe.polaroidd\\appdata\\local\\programs\\python\\python311\\lib\\site-packages (from matplotlib) (1.4.4)\n",
      "Requirement already satisfied: numpy>=1.20 in c:\\users\\hlibe.polaroidd\\appdata\\local\\programs\\python\\python311\\lib\\site-packages (from matplotlib) (1.24.2)\n",
      "Requirement already satisfied: packaging>=20.0 in c:\\users\\hlibe.polaroidd\\appdata\\local\\programs\\python\\python311\\lib\\site-packages (from matplotlib) (23.0)\n",
      "Requirement already satisfied: pillow>=6.2.0 in c:\\users\\hlibe.polaroidd\\appdata\\local\\programs\\python\\python311\\lib\\site-packages (from matplotlib) (9.4.0)\n",
      "Requirement already satisfied: pyparsing>=2.3.1 in c:\\users\\hlibe.polaroidd\\appdata\\local\\programs\\python\\python311\\lib\\site-packages (from matplotlib) (3.0.9)\n",
      "Requirement already satisfied: python-dateutil>=2.7 in c:\\users\\hlibe.polaroidd\\appdata\\local\\programs\\python\\python311\\lib\\site-packages (from matplotlib) (2.8.2)\n",
      "Requirement already satisfied: six>=1.5 in c:\\users\\hlibe.polaroidd\\appdata\\local\\programs\\python\\python311\\lib\\site-packages (from python-dateutil>=2.7->matplotlib) (1.16.0)\n"
     ]
    },
    {
     "name": "stderr",
     "output_type": "stream",
     "text": [
      "\n",
      "[notice] A new release of pip available: 22.3.1 -> 23.0.1\n",
      "[notice] To update, run: python.exe -m pip install --upgrade pip\n"
     ]
    },
    {
     "name": "stdout",
     "output_type": "stream",
     "text": [
      "Requirement already satisfied: seaborn in c:\\users\\hlibe.polaroidd\\appdata\\local\\programs\\python\\python311\\lib\\site-packages (0.12.2)\n",
      "Requirement already satisfied: numpy!=1.24.0,>=1.17 in c:\\users\\hlibe.polaroidd\\appdata\\local\\programs\\python\\python311\\lib\\site-packages (from seaborn) (1.24.2)\n",
      "Requirement already satisfied: pandas>=0.25 in c:\\users\\hlibe.polaroidd\\appdata\\local\\programs\\python\\python311\\lib\\site-packages (from seaborn) (1.5.3)\n",
      "Requirement already satisfied: matplotlib!=3.6.1,>=3.1 in c:\\users\\hlibe.polaroidd\\appdata\\local\\programs\\python\\python311\\lib\\site-packages (from seaborn) (3.7.0)\n",
      "Requirement already satisfied: contourpy>=1.0.1 in c:\\users\\hlibe.polaroidd\\appdata\\local\\programs\\python\\python311\\lib\\site-packages (from matplotlib!=3.6.1,>=3.1->seaborn) (1.0.7)\n",
      "Requirement already satisfied: cycler>=0.10 in c:\\users\\hlibe.polaroidd\\appdata\\local\\programs\\python\\python311\\lib\\site-packages (from matplotlib!=3.6.1,>=3.1->seaborn) (0.11.0)\n",
      "Requirement already satisfied: fonttools>=4.22.0 in c:\\users\\hlibe.polaroidd\\appdata\\local\\programs\\python\\python311\\lib\\site-packages (from matplotlib!=3.6.1,>=3.1->seaborn) (4.38.0)\n",
      "Requirement already satisfied: kiwisolver>=1.0.1 in c:\\users\\hlibe.polaroidd\\appdata\\local\\programs\\python\\python311\\lib\\site-packages (from matplotlib!=3.6.1,>=3.1->seaborn) (1.4.4)\n",
      "Requirement already satisfied: packaging>=20.0 in c:\\users\\hlibe.polaroidd\\appdata\\local\\programs\\python\\python311\\lib\\site-packages (from matplotlib!=3.6.1,>=3.1->seaborn) (23.0)\n",
      "Requirement already satisfied: pillow>=6.2.0 in c:\\users\\hlibe.polaroidd\\appdata\\local\\programs\\python\\python311\\lib\\site-packages (from matplotlib!=3.6.1,>=3.1->seaborn) (9.4.0)\n",
      "Requirement already satisfied: pyparsing>=2.3.1 in c:\\users\\hlibe.polaroidd\\appdata\\local\\programs\\python\\python311\\lib\\site-packages (from matplotlib!=3.6.1,>=3.1->seaborn) (3.0.9)\n",
      "Requirement already satisfied: python-dateutil>=2.7 in c:\\users\\hlibe.polaroidd\\appdata\\local\\programs\\python\\python311\\lib\\site-packages (from matplotlib!=3.6.1,>=3.1->seaborn) (2.8.2)\n",
      "Requirement already satisfied: pytz>=2020.1 in c:\\users\\hlibe.polaroidd\\appdata\\local\\programs\\python\\python311\\lib\\site-packages (from pandas>=0.25->seaborn) (2022.7.1)\n",
      "Requirement already satisfied: six>=1.5 in c:\\users\\hlibe.polaroidd\\appdata\\local\\programs\\python\\python311\\lib\\site-packages (from python-dateutil>=2.7->matplotlib!=3.6.1,>=3.1->seaborn) (1.16.0)\n"
     ]
    },
    {
     "name": "stderr",
     "output_type": "stream",
     "text": [
      "\n",
      "[notice] A new release of pip available: 22.3.1 -> 23.0.1\n",
      "[notice] To update, run: python.exe -m pip install --upgrade pip\n"
     ]
    }
   ],
   "source": [
    "# Deps\n",
    "!pip install numpy\n",
    "!pip install pandas\n",
    "!pip install openpyxl\n",
    "!pip install matplotlib\n",
    "!pip install seaborn"
   ]
  },
  {
   "cell_type": "code",
   "execution_count": 2,
   "id": "b438a126-4678-401e-a0ca-14a5db0969fd",
   "metadata": {
    "tags": []
   },
   "outputs": [],
   "source": [
    "# Imports\n",
    "import numpy as np\n",
    "import pandas as pd\n",
    "import matplotlib.pyplot as plt\n",
    "import seaborn as sns"
   ]
  },
  {
   "cell_type": "markdown",
   "id": "64e03bb3-3a24-45ec-a1ed-f97df43bfdae",
   "metadata": {},
   "source": [
    "# Visualização dos Dados"
   ]
  },
  {
   "cell_type": "code",
   "execution_count": 3,
   "id": "83fc892b-7048-4775-ba94-0cd925b7cb03",
   "metadata": {
    "tags": []
   },
   "outputs": [
    {
     "data": {
      "text/html": [
       "<div>\n",
       "<style scoped>\n",
       "    .dataframe tbody tr th:only-of-type {\n",
       "        vertical-align: middle;\n",
       "    }\n",
       "\n",
       "    .dataframe tbody tr th {\n",
       "        vertical-align: top;\n",
       "    }\n",
       "\n",
       "    .dataframe thead th {\n",
       "        text-align: right;\n",
       "    }\n",
       "</style>\n",
       "<table border=\"1\" class=\"dataframe\">\n",
       "  <thead>\n",
       "    <tr style=\"text-align: right;\">\n",
       "      <th></th>\n",
       "      <th>X1</th>\n",
       "      <th>X2</th>\n",
       "      <th>Y</th>\n",
       "    </tr>\n",
       "  </thead>\n",
       "  <tbody>\n",
       "    <tr>\n",
       "      <th>0</th>\n",
       "      <td>-0.215326</td>\n",
       "      <td>-0.288510</td>\n",
       "      <td>0</td>\n",
       "    </tr>\n",
       "    <tr>\n",
       "      <th>1</th>\n",
       "      <td>-0.263642</td>\n",
       "      <td>-0.673541</td>\n",
       "      <td>0</td>\n",
       "    </tr>\n",
       "    <tr>\n",
       "      <th>2</th>\n",
       "      <td>-0.843519</td>\n",
       "      <td>0.215869</td>\n",
       "      <td>0</td>\n",
       "    </tr>\n",
       "    <tr>\n",
       "      <th>3</th>\n",
       "      <td>-0.934878</td>\n",
       "      <td>0.551532</td>\n",
       "      <td>0</td>\n",
       "    </tr>\n",
       "    <tr>\n",
       "      <th>4</th>\n",
       "      <td>-0.017532</td>\n",
       "      <td>0.244474</td>\n",
       "      <td>0</td>\n",
       "    </tr>\n",
       "  </tbody>\n",
       "</table>\n",
       "</div>"
      ],
      "text/plain": [
       "         X1        X2  Y\n",
       "0 -0.215326 -0.288510  0\n",
       "1 -0.263642 -0.673541  0\n",
       "2 -0.843519  0.215869  0\n",
       "3 -0.934878  0.551532  0\n",
       "4 -0.017532  0.244474  0"
      ]
     },
     "execution_count": 3,
     "metadata": {},
     "output_type": "execute_result"
    }
   ],
   "source": [
    "# Importando o arquivo xlsx com os dados\n",
    "motor_df = pd.read_excel(\"rna_database.xlsx\", decimal=\".\", header=0)\n",
    "motor_df.head()"
   ]
  },
  {
   "cell_type": "code",
   "execution_count": 4,
   "id": "354f7f0c-d1b9-4cb3-98e3-d7370fcedfb4",
   "metadata": {
    "tags": []
   },
   "outputs": [
    {
     "data": {
      "text/plain": [
       "(386, 3)"
      ]
     },
     "execution_count": 4,
     "metadata": {},
     "output_type": "execute_result"
    }
   ],
   "source": [
    "# A base de dados é composta por 386 dados contendo duas entradas X1 X2 e uma saída Y.\n",
    "motor_df.shape"
   ]
  },
  {
   "cell_type": "code",
   "execution_count": 5,
   "id": "caa7702d-3061-4c37-a741-dd97d8678022",
   "metadata": {
    "tags": []
   },
   "outputs": [
    {
     "data": {
      "text/html": [
       "<div>\n",
       "<style scoped>\n",
       "    .dataframe tbody tr th:only-of-type {\n",
       "        vertical-align: middle;\n",
       "    }\n",
       "\n",
       "    .dataframe tbody tr th {\n",
       "        vertical-align: top;\n",
       "    }\n",
       "\n",
       "    .dataframe thead th {\n",
       "        text-align: right;\n",
       "    }\n",
       "</style>\n",
       "<table border=\"1\" class=\"dataframe\">\n",
       "  <thead>\n",
       "    <tr style=\"text-align: right;\">\n",
       "      <th></th>\n",
       "      <th>X1</th>\n",
       "      <th>X2</th>\n",
       "      <th>Y</th>\n",
       "    </tr>\n",
       "  </thead>\n",
       "  <tbody>\n",
       "    <tr>\n",
       "      <th>count</th>\n",
       "      <td>386.000000</td>\n",
       "      <td>386.000000</td>\n",
       "      <td>386.000000</td>\n",
       "    </tr>\n",
       "    <tr>\n",
       "      <th>mean</th>\n",
       "      <td>0.160199</td>\n",
       "      <td>0.012703</td>\n",
       "      <td>0.507772</td>\n",
       "    </tr>\n",
       "    <tr>\n",
       "      <th>std</th>\n",
       "      <td>0.604064</td>\n",
       "      <td>0.686653</td>\n",
       "      <td>0.500588</td>\n",
       "    </tr>\n",
       "    <tr>\n",
       "      <th>min</th>\n",
       "      <td>-0.988142</td>\n",
       "      <td>-0.999918</td>\n",
       "      <td>0.000000</td>\n",
       "    </tr>\n",
       "    <tr>\n",
       "      <th>25%</th>\n",
       "      <td>-0.344689</td>\n",
       "      <td>-0.637910</td>\n",
       "      <td>0.000000</td>\n",
       "    </tr>\n",
       "    <tr>\n",
       "      <th>50%</th>\n",
       "      <td>0.302345</td>\n",
       "      <td>-0.003418</td>\n",
       "      <td>1.000000</td>\n",
       "    </tr>\n",
       "    <tr>\n",
       "      <th>75%</th>\n",
       "      <td>0.697541</td>\n",
       "      <td>0.716575</td>\n",
       "      <td>1.000000</td>\n",
       "    </tr>\n",
       "    <tr>\n",
       "      <th>max</th>\n",
       "      <td>0.998171</td>\n",
       "      <td>1.000000</td>\n",
       "      <td>1.000000</td>\n",
       "    </tr>\n",
       "  </tbody>\n",
       "</table>\n",
       "</div>"
      ],
      "text/plain": [
       "               X1          X2           Y\n",
       "count  386.000000  386.000000  386.000000\n",
       "mean     0.160199    0.012703    0.507772\n",
       "std      0.604064    0.686653    0.500588\n",
       "min     -0.988142   -0.999918    0.000000\n",
       "25%     -0.344689   -0.637910    0.000000\n",
       "50%      0.302345   -0.003418    1.000000\n",
       "75%      0.697541    0.716575    1.000000\n",
       "max      0.998171    1.000000    1.000000"
      ]
     },
     "execution_count": 5,
     "metadata": {},
     "output_type": "execute_result"
    }
   ],
   "source": [
    "motor_df.describe()"
   ]
  },
  {
   "cell_type": "code",
   "execution_count": 6,
   "id": "206ad7c5-ed1e-46b1-af9b-2596d21625df",
   "metadata": {
    "tags": []
   },
   "outputs": [
    {
     "data": {
      "text/plain": [
       "X1    0\n",
       "X2    0\n",
       "Y     0\n",
       "dtype: int64"
      ]
     },
     "execution_count": 6,
     "metadata": {},
     "output_type": "execute_result"
    }
   ],
   "source": [
    "# Há dados nulos?\n",
    "motor_df.isnull().sum()"
   ]
  },
  {
   "cell_type": "code",
   "execution_count": 7,
   "id": "78056d64-233b-4b79-850f-68d53194709e",
   "metadata": {
    "tags": []
   },
   "outputs": [
    {
     "data": {
      "text/plain": [
       "X1    float64\n",
       "X2    float64\n",
       "Y       int64\n",
       "dtype: object"
      ]
     },
     "execution_count": 7,
     "metadata": {},
     "output_type": "execute_result"
    }
   ],
   "source": [
    "motor_df.dtypes"
   ]
  },
  {
   "cell_type": "markdown",
   "id": "d7635444-cc75-48cf-870d-dba2ee5343fc",
   "metadata": {
    "tags": []
   },
   "source": [
    "# Demonstração dos Dados"
   ]
  },
  {
   "cell_type": "code",
   "execution_count": 8,
   "id": "a138896a-0264-4a16-a65f-adf0debbe5c1",
   "metadata": {
    "tags": []
   },
   "outputs": [],
   "source": [
    "# Transformando os dados em um array\n",
    "X1 = motor_df.iloc[:, 0].to_numpy()\n",
    "X2 = motor_df.iloc[:, 1].to_numpy()"
   ]
  },
  {
   "cell_type": "code",
   "execution_count": 9,
   "id": "e53f648a-8552-41c8-aa9d-7ff1cd0ac22e",
   "metadata": {
    "tags": []
   },
   "outputs": [
    {
     "data": {
      "text/plain": [
       "<Axes: xlabel='X1', ylabel='X2'>"
      ]
     },
     "execution_count": 9,
     "metadata": {},
     "output_type": "execute_result"
    },
    {
     "data": {
      "image/png": "[encoded data removed]",
      "text/plain": [
       "<Figure size 640x480 with 1 Axes>"
      ]
     },
     "metadata": {},
     "output_type": "display_data"
    }
   ],
   "source": [
    "sns.scatterplot(data=motor_df, x=\"X1\", y = \"X2\", hue=\"Y\", style=\"Y\")"
   ]
  },
  {
   "cell_type": "markdown",
   "id": "949f96d4-4b85-42af-97f1-2fab41221a6b",
   "metadata": {},
   "source": [
    "Nota-se que em questão de dispersão de dados, os dois conseguem se dinstinguir de forma eficaz e sem invasões, oque ajuda muito para o uso de uma rede como a <strong>Perceptron</strong>, que utiliza apenas uma função de reta."
   ]
  },
  {
   "cell_type": "markdown",
   "id": "882801ea-fc59-4fd9-87f7-c8392110b5b4",
   "metadata": {
    "tags": []
   },
   "source": [
    "## Outliers"
   ]
  },
  {
   "cell_type": "markdown",
   "id": "a211d8c6-8682-4cca-b508-b628bcd072c6",
   "metadata": {},
   "source": [
    "Geralmente em uma base de dados ocorrem a existência de dados fora do comum, chamados de outlier, que podem prejudicar a análise e o uso da rede."
   ]
  },
  {
   "cell_type": "code",
   "execution_count": 10,
   "id": "91161165-0a58-4242-9614-0412a0920cbf",
   "metadata": {
    "tags": []
   },
   "outputs": [
    {
     "data": {
      "text/plain": [
       "<Axes: >"
      ]
     },
     "execution_count": 10,
     "metadata": {},
     "output_type": "execute_result"
    },
    {
     "data": {
      "image/png": "[encoded data removed]",
      "text/plain": [
       "<Figure size 640x480 with 1 Axes>"
      ]
     },
     "metadata": {},
     "output_type": "display_data"
    }
   ],
   "source": [
    "sns.boxplot(x=X1)"
   ]
  },
  {
   "cell_type": "code",
   "execution_count": 11,
   "id": "db7803d9-636b-4a92-87d9-9c44bad8ff6d",
   "metadata": {
    "tags": []
   },
   "outputs": [
    {
     "data": {
      "text/plain": [
       "<Axes: >"
      ]
     },
     "execution_count": 11,
     "metadata": {},
     "output_type": "execute_result"
    },
    {
     "data": {
      "image/png": "[encoded data removed]",
      "text/plain": [
       "<Figure size 640x480 with 1 Axes>"
      ]
     },
     "metadata": {},
     "output_type": "display_data"
    }
   ],
   "source": [
    "sns.boxplot(x=X2)"
   ]
  },
  {
   "cell_type": "markdown",
   "id": "f62c67af-645b-46cf-aca2-bcfa4b48c663",
   "metadata": {},
   "source": [
    "Neste caso, não há a existência de dados fora do comum, ou seja, todos eles estão de alguma forma dentro de seus padrões, oque ajuda na hora de distingui-los na análise futura."
   ]
  },
  {
   "cell_type": "markdown",
   "id": "8e4decbf-55d3-4675-a0cb-79759618cb0d",
   "metadata": {},
   "source": [
    "# Organizando os Dados"
   ]
  },
  {
   "cell_type": "code",
   "execution_count": 12,
   "id": "60e5b227-3cb8-4afa-bdfd-6765eefc5c5d",
   "metadata": {
    "tags": []
   },
   "outputs": [],
   "source": [
    "# Treinamento 70% - 30%\n",
    "\n",
    "class_off = motor_df.loc[motor_df['Y'] == 0]\n",
    "class_on = motor_df.loc[motor_df['Y'] == 1]\n",
    "\n",
    "class_on = class_on.reset_index(drop=True)\n",
    "\n",
    "class_off_train = class_off.iloc[:(round(len(class_off) * 0.7)),]\n",
    "class_on_train = class_on.iloc[:(round(len(class_on)*0.7)),]\n",
    "\n",
    "class_on_test = class_on.iloc[(round(len(class_on_train))):]\n",
    "class_off_test = class_off.iloc[(round(len(class_off_train))):]"
   ]
  },
  {
   "cell_type": "code",
   "execution_count": 13,
   "id": "d81ca863-16a4-408f-96ab-f8c7ff56fff0",
   "metadata": {
    "tags": []
   },
   "outputs": [],
   "source": [
    "# Resetando os dois index\n",
    "\n",
    "class_on_test = class_on_test.reset_index(drop=True)\n",
    "class_on_test = class_on_test.reset_index(drop=True)"
   ]
  },
  {
   "cell_type": "code",
   "execution_count": 14,
   "id": "2db97ac4-9e74-4bc9-9e02-8166bb22154c",
   "metadata": {
    "tags": []
   },
   "outputs": [
    {
     "name": "stdout",
     "output_type": "stream",
     "text": [
      "Dados estão organizados de forma correta\n",
      "Classe 0 de teste: 57\n",
      "Classe 0 de treino 133\n",
      "Total: 190\n",
      "\n",
      "\n",
      "Classe 1 de teste: 59\n",
      "Classe 1 de treino: 137\n",
      "Total: 196\n"
     ]
    }
   ],
   "source": [
    "# Os dados foram organizados de forma correta?\n",
    "\n",
    "if (len(class_off_test) + len(class_off_train) + len(class_on_test) + len(class_on_train)) == 386 :\n",
    "    print(\"Dados estão organizados de forma correta\")\n",
    "    print(\"Classe 0 de teste: \"+ str(len(class_off_test)))\n",
    "    print(\"Classe 0 de treino \"+ str(len(class_off_train)))\n",
    "    print(\"Total: \"+str(len(class_off_test) + len(class_off_train)))\n",
    "    print(\"\\n\")\n",
    "    print(\"Classe 1 de teste: \"+ str(len(class_on_test)))\n",
    "    print(\"Classe 1 de treino: \"+ str(len(class_on_train)))\n",
    "    print(\"Total: \"+str(len(class_on_test) + len(class_on_train)))\n",
    "else:\n",
    "    print(\"Dados estão organizados de forma errada\")"
   ]
  },
  {
   "cell_type": "code",
   "execution_count": 15,
   "id": "4cd99556-d489-4f8d-84db-7927a60f223e",
   "metadata": {
    "tags": []
   },
   "outputs": [],
   "source": [
    "# Mesclando os dados de teste\n",
    "test_df = pd.concat([class_off_test,class_on_test], ignore_index=True)\n",
    "\n",
    "# Mesclando os dados de treino\n",
    "train_df = pd.concat([class_off_train, class_on_train], ignore_index=True)"
   ]
  },
  {
   "cell_type": "code",
   "execution_count": 16,
   "id": "9bacfbdb-dfef-4610-bdef-f1150e45e5ff",
   "metadata": {
    "tags": []
   },
   "outputs": [],
   "source": [
    "test_df_Y = test_df['Y'] # Saída esperada\n",
    "\n",
    "test_df = test_df.drop(columns=['Y']) # Dados de treino"
   ]
  },
  {
   "cell_type": "code",
   "execution_count": 17,
   "id": "221216ba-43f8-4a91-a997-0e4e8ddc923b",
   "metadata": {
    "tags": []
   },
   "outputs": [
    {
     "data": {
      "text/plain": [
       "0      0\n",
       "1      0\n",
       "2      0\n",
       "3      0\n",
       "4      0\n",
       "      ..\n",
       "111    1\n",
       "112    1\n",
       "113    1\n",
       "114    1\n",
       "115    1\n",
       "Name: Y, Length: 116, dtype: int64"
      ]
     },
     "execution_count": 17,
     "metadata": {},
     "output_type": "execute_result"
    }
   ],
   "source": [
    "test_df_Y"
   ]
  },
  {
   "cell_type": "code",
   "execution_count": 18,
   "id": "33628d73-d3b9-4620-8ae7-af02acd01bd3",
   "metadata": {
    "tags": []
   },
   "outputs": [
    {
     "data": {
      "text/plain": [
       "(270, 3)"
      ]
     },
     "execution_count": 18,
     "metadata": {},
     "output_type": "execute_result"
    }
   ],
   "source": [
    "train_df.shape"
   ]
  },
  {
   "cell_type": "code",
   "execution_count": 19,
   "id": "73a6d645-6e16-4e83-afb0-174d92c890fe",
   "metadata": {
    "tags": []
   },
   "outputs": [
    {
     "data": {
      "text/plain": [
       "(116, 2)"
      ]
     },
     "execution_count": 19,
     "metadata": {},
     "output_type": "execute_result"
    }
   ],
   "source": [
    "test_df.shape"
   ]
  },
  {
   "cell_type": "code",
   "execution_count": 20,
   "id": "569c73d0-4376-4492-8147-9d282458cc3e",
   "metadata": {
    "tags": []
   },
   "outputs": [],
   "source": [
    "# Exportando os dados para CSV\n",
    "motor_df.to_csv('dataset.csv')\n",
    "train_df.to_csv('train-data.csv')\n",
    "test_df.to_csv('test-data.csv')"
   ]
  },
  {
   "cell_type": "markdown",
   "id": "1a47bfe1-1bc1-47c7-beb1-c6243036cad1",
   "metadata": {},
   "source": [
    "# Modelo Perceptron"
   ]
  },
  {
   "cell_type": "code",
   "execution_count": 21,
   "id": "95600fe4-c461-4a96-82eb-b61e347a7f7b",
   "metadata": {},
   "outputs": [],
   "source": [
    "# Função degrau\n",
    "def degrau_func(x):\n",
    "    if(x>0):\n",
    "        return 1\n",
    "    return 0"
   ]
  },
  {
   "cell_type": "code",
   "execution_count": 57,
   "id": "9285af5c-22fd-474d-b8a8-1d06afc350a6",
   "metadata": {
    "tags": []
   },
   "outputs": [],
   "source": [
    "import random\n",
    "\n",
    "#bias\n",
    "bias = round(random.uniform(0,1), 2)\n",
    "\n",
    "# pesos\n",
    "p1 = round(random.uniform(0,1), 2)\n",
    "p2 = round(random.uniform(0,1), 2)"
   ]
  },
  {
   "cell_type": "code",
   "execution_count": 442,
   "id": "248d853c-b734-4d45-b088-563a609672c6",
   "metadata": {},
   "outputs": [],
   "source": [
    "# Entradas de teste\n",
    "test_matrix = test_df.to_numpy() # 0 - 115\n",
    "test_matrix_y = test_df_Y.to_numpy()\n",
    "\n",
    "# Entradas de treino\n",
    "train_matrix = train_df.to_numpy()"
   ]
  },
  {
   "cell_type": "code",
   "execution_count": 445,
   "id": "9597f477-10b5-45a7-9fae-05108ee98526",
   "metadata": {
    "tags": []
   },
   "outputs": [],
   "source": [
    "class Perceptron:\n",
    "    limit = 0 # limiar inicial\n",
    "    w = [0,0] # pesos iniciais\n",
    "    \n",
    "    def parameters(self):\n",
    "        print(\"Limiar inicial: \" + str(self.limit))\n",
    "        print(\"Pesos: \" + str(self.w))\n",
    "    \n",
    "    def train(self,inputs_train, learning_rate):\n",
    "        errors = 0\n",
    "        \n",
    "        for x in inputs_train:\n",
    "            x1w1 = x[0]*self.w[0]\n",
    "            x2w2 = x[1]*self.w[1]\n",
    "            \n",
    "            sigma = (self.limit * -1) + (x1w1 + x2w2) \n",
    "            y = degrau_func(sigma)\n",
    "            #print(\"Y Result = \"+str(y)+\" Y Expected = \"+str(x[2]))\n",
    "            \n",
    "            self.w[0] = self.w[0] + learning_rate*(x[2]-y)*x[0] # Ajuste do peso 1\n",
    "            self.w[1] = self.w[1] + learning_rate*(x[2]-y)*x[1] # Ajuste do peso 2\n",
    "            self.limit = self.limit + learning_rate*(x[2]-y)*-1\n",
    "            \n",
    "            if((x[2]-y)!=0):\n",
    "                errors = errors + 1\n",
    "        print(\"Error: \" + str((errors/len(inputs_train))*100))\n",
    "        \n",
    "    def test(self,input_test):\n",
    "        x1w1 = input_test[0]*self.w[0]\n",
    "        x2w2 = input_test[1]*self.w[1]\n",
    "        \n",
    "        sigma = (self.limit * -1) + (x1w1+x2w2)\n",
    "        y = degrau_func(sigma)\n",
    "        \n",
    "        return y\n",
    "    def __init__(self, limit):\n",
    "        self.w[0] = round(random.uniform(0,1), 2)\n",
    "        self.w[1] = round(random.uniform(0,1), 2)\n",
    "        self.limit = limit\n",
    "   "
   ]
  },
  {
   "cell_type": "code",
   "execution_count": 446,
   "id": "a37cb2f4-9471-4184-bb1d-db5fca5302e1",
   "metadata": {
    "tags": []
   },
   "outputs": [],
   "source": [
    "model = Perceptron(0.5)"
   ]
  },
  {
   "cell_type": "code",
   "execution_count": 471,
   "id": "f6144369-0da5-4583-b943-0813d26a1738",
   "metadata": {
    "tags": []
   },
   "outputs": [
    {
     "name": "stdout",
     "output_type": "stream",
     "text": [
      "Error: 0.0\n",
      "Limiar inicial: 0.30000000000000004\n",
      "Pesos: [0.9408071955428398, 0.7201777433097512]\n"
     ]
    }
   ],
   "source": [
    "model.train(train_matrix,0.1)\n",
    "model.parameters()"
   ]
  }
 ],
 "metadata": {
  "kernelspec": {
   "display_name": "Python 3 (ipykernel)",
   "language": "python",
   "name": "python3"
  },
  "language_info": {
   "codemirror_mode": {
    "name": "ipython",
    "version": 3
   },
   "file_extension": ".py",
   "mimetype": "text/x-python",
   "name": "python",
   "nbconvert_exporter": "python",
   "pygments_lexer": "ipython3",
   "version": "3.11.2"
  }
 },
 "nbformat": 4,
 "nbformat_minor": 5
}
